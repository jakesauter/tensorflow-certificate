{
  "cells": [
    {
      "cell_type": "code",
      "metadata": {
        "id": "zX4Kg8DUTKWO",
        "colab_type": "code",
        "colab": {}
      },
      "source": [
        "#@title Licensed under the Apache License, Version 2.0 (the \"License\");\n",
        "# you may not use this file except in compliance with the License.\n",
        "# You may obtain a copy of the License at\n",
        "#\n",
        "# https://www.apache.org/licenses/LICENSE-2.0\n",
        "#\n",
        "# Unless required by applicable law or agreed to in writing, software\n",
        "# distributed under the License is distributed on an \"AS IS\" BASIS,\n",
        "# WITHOUT WARRANTIES OR CONDITIONS OF ANY KIND, either express or implied.\n",
        "# See the License for the specific language governing permissions and\n",
        "# limitations under the License."
      ],
      "execution_count": 1,
      "outputs": []
    },
    {
      "cell_type": "code",
      "metadata": {
        "colab_type": "code",
        "id": "hmA6EzkQJ5jt",
        "colab": {}
      },
      "source": [
        "import json\n",
        "import tensorflow as tf\n",
        "import csv\n",
        "import random\n",
        "import numpy as np\n",
        "\n",
        "from tensorflow.keras.preprocessing.text import Tokenizer\n",
        "from tensorflow.keras.preprocessing.sequence import pad_sequences\n",
        "from tensorflow.keras.utils import to_categorical\n",
        "from tensorflow.keras import regularizers\n",
        "\n",
        "\n",
        "embedding_dim = 100\n",
        "max_length = 16\n",
        "trunc_type='post'\n",
        "padding_type='post'\n",
        "oov_tok = \"<OOV>\"\n",
        "training_size=160000\n",
        "test_portion=.1\n",
        "\n",
        "corpus = []\n"
      ],
      "execution_count": 13,
      "outputs": []
    },
    {
      "cell_type": "code",
      "metadata": {
        "colab_type": "code",
        "id": "bM0l_dORKqE0",
        "outputId": "491ba86b-f780-4355-a4be-765565a29c8c",
        "colab": {
          "base_uri": "https://localhost:8080/",
          "height": 204
        }
      },
      "source": [
        "# Note that I cleaned the Stanford dataset to remove LATIN1 encoding to make it easier for Python CSV reader\n",
        "# You can do that yourself with:\n",
        "# iconv -f LATIN1 -t UTF8 training.1600000.processed.noemoticon.csv -o training_cleaned.csv\n",
        "# I then hosted it on my site to make it easier to use in this notebook\n",
        "\n",
        "!wget --no-check-certificate \\\n",
        "    https://storage.googleapis.com/laurencemoroney-blog.appspot.com/training_cleaned.csv \\\n",
        "    -O /tmp/training_cleaned.csv\n",
        "\n",
        "num_sentences = 0\n",
        "\n",
        "with open(\"/tmp/training_cleaned.csv\") as csvfile:\n",
        "    reader = csv.reader(csvfile, delimiter=',')\n",
        "    for row in reader:\n",
        "        list_item=[]\n",
        "        list_item.append(row[5])\n",
        "        this_label=row[0]\n",
        "        if this_label=='0':\n",
        "            list_item.append(0)\n",
        "        else:\n",
        "            list_item.append(1)\n",
        "        num_sentences = num_sentences + 1\n",
        "        corpus.append(list_item)\n"
      ],
      "execution_count": 14,
      "outputs": [
        {
          "output_type": "stream",
          "name": "stdout",
          "text": "--2020-05-13 14:17:22--  https://storage.googleapis.com/laurencemoroney-blog.appspot.com/training_cleaned.csv\nResolving storage.googleapis.com (storage.googleapis.com)... 2607:f8b0:4009:80d::2010, 172.217.4.48\nConnecting to storage.googleapis.com (storage.googleapis.com)|2607:f8b0:4009:80d::2010|:443...connected.\nHTTP request sent, awaiting response...200 OK\nLength: 238942690 (228M) [application/octet-stream]\nSaving to: ‘/tmp/training_cleaned.csv’\n\n/tmp/training_clean 100%[===================>] 227.87M  9.93MB/s    in 22s     \n\n2020-05-13 14:17:45 (10.3 MB/s) - ‘/tmp/training_cleaned.csv’ saved [238942690/238942690]\n\n"
        }
      ]
    },
    {
      "cell_type": "code",
      "metadata": {
        "colab_type": "code",
        "id": "3kxblBUjEUX-",
        "outputId": "3c0227a2-e74b-4d9b-cabb-f9ee150571b1",
        "colab": {
          "base_uri": "https://localhost:8080/",
          "height": 68
        }
      },
      "source": [
        "print(num_sentences)\n",
        "print(len(corpus))\n",
        "print(corpus[1])\n",
        "\n",
        "# Expected Output:\n",
        "# 1600000\n",
        "# 1600000\n",
        "# [\"is upset that he can't update his Facebook by texting it... and might cry as a result  School today also. Blah!\", 0]"
      ],
      "execution_count": 15,
      "outputs": [
        {
          "output_type": "stream",
          "name": "stdout",
          "text": "1600000\n1600000\n[\"is upset that he can't update his Facebook by texting it... and might cry as a result  School today also. Blah!\", 0]\n"
        }
      ]
    },
    {
      "cell_type": "code",
      "metadata": {
        "colab_type": "code",
        "id": "ohOGz24lsNAD",
        "colab": {}
      },
      "source": [
        "sentences=[]\n",
        "labels=[]\n",
        "random.shuffle(corpus)\n",
        "for x in range(training_size):\n",
        "    sentences.append(corpus[x][0])\n",
        "    labels.append(corpus[x][1])\n",
        "\n",
        "\n",
        "tokenizer = Tokenizer()\n",
        "tokenizer.fit_on_texts(sentences)\n",
        "\n",
        "word_index = tokenizer.word_index\n",
        "vocab_size=len(word_index)\n",
        "\n",
        "sequences = tokenizer.texts_to_sequences(sentences)\n",
        "padded = pad_sequences(sequences, maxlen=max_length, padding=padding_type, truncating=trunc_type)\n",
        "\n",
        "split = int(test_portion * training_size)\n",
        "\n",
        "test_sequences = padded[0:split]\n",
        "training_sequences = padded[split:training_size]\n",
        "test_labels = labels[0:split]\n",
        "training_labels = labels[split:training_size]"
      ],
      "execution_count": 16,
      "outputs": []
    },
    {
      "cell_type": "code",
      "metadata": {
        "colab_type": "code",
        "id": "gIrtRem1En3N",
        "outputId": "4ad8401c-8dba-420d-8aee-38dac0b0839a",
        "colab": {
          "base_uri": "https://localhost:8080/",
          "height": 51
        }
      },
      "source": [
        "print(vocab_size)\n",
        "print(word_index['i'])\n",
        "# Expected Output\n",
        "# 138858\n",
        "# 1"
      ],
      "execution_count": 17,
      "outputs": [
        {
          "output_type": "stream",
          "name": "stdout",
          "text": "138475\n1\n"
        }
      ]
    },
    {
      "cell_type": "code",
      "metadata": {
        "colab_type": "code",
        "id": "C1zdgJkusRh0",
        "outputId": "b6edd322-8191-45e7-cb12-08921685a72f",
        "colab": {
          "base_uri": "https://localhost:8080/",
          "height": 204
        }
      },
      "source": [
        "# Note this is the 100 dimension version of GloVe from Stanford\n",
        "# I unzipped and hosted it on my site to make this notebook easier\n",
        "!wget --no-check-certificate \\\n",
        "    https://storage.googleapis.com/laurencemoroney-blog.appspot.com/glove.6B.100d.txt \\\n",
        "    -O /tmp/glove.6B.100d.txt\n",
        "embeddings_index = {};\n",
        "with open('/tmp/glove.6B.100d.txt') as f:\n",
        "    for line in f:\n",
        "        values = line.split();\n",
        "        word = values[0];\n",
        "        coefs = np.asarray(values[1:], dtype='float32');\n",
        "        embeddings_index[word] = coefs;\n",
        "\n",
        "embeddings_matrix = np.zeros((vocab_size+1, embedding_dim));\n",
        "for word, i in word_index.items():\n",
        "    embedding_vector = embeddings_index.get(word);\n",
        "    if embedding_vector is not None:\n",
        "        embeddings_matrix[i] = embedding_vector;"
      ],
      "execution_count": 18,
      "outputs": [
        {
          "output_type": "stream",
          "name": "stdout",
          "text": "--2020-05-13 14:17:54--  https://storage.googleapis.com/laurencemoroney-blog.appspot.com/glove.6B.100d.txt\nResolving storage.googleapis.com (storage.googleapis.com)... 2607:f8b0:4009:816::2010, 172.217.4.48\nConnecting to storage.googleapis.com (storage.googleapis.com)|2607:f8b0:4009:816::2010|:443...connected.\nHTTP request sent, awaiting response...200 OK\nLength: 347116733 (331M) [text/plain]\nSaving to: ‘/tmp/glove.6B.100d.txt’\n\n/tmp/glove.6B.100d. 100%[===================>] 331.04M  10.0MB/s    in 32s     \n\n2020-05-13 14:18:26 (10.4 MB/s) - ‘/tmp/glove.6B.100d.txt’ saved [347116733/347116733]\n\n"
        }
      ]
    },
    {
      "cell_type": "code",
      "metadata": {
        "colab_type": "code",
        "id": "71NLk_lpFLNt",
        "outputId": "97cb88db-754f-4375-fdc3-876cd6b4fdce",
        "colab": {
          "base_uri": "https://localhost:8080/",
          "height": 34
        }
      },
      "source": [
        "print(len(embeddings_matrix))\n",
        "# Expected Output\n",
        "# 138859"
      ],
      "execution_count": 19,
      "outputs": [
        {
          "output_type": "stream",
          "name": "stdout",
          "text": "138476\n"
        }
      ]
    },
    {
      "cell_type": "code",
      "metadata": {
        "colab_type": "code",
        "id": "iKKvbuEBOGFz",
        "colab": {}
      },
      "source": [
        "model = tf.keras.Sequential([\n",
        "    tf.keras.layers.Embedding(vocab_size+1, embedding_dim, input_length=max_length, weights=[embeddings_matrix], trainable=False),\n",
        "    tf.keras.layers.Dropout(0.2),\n",
        "    tf.keras.layers.Conv1D(64, 5, activation='relu'),\n",
        "    tf.keras.layers.MaxPooling1D(pool_size=4),\n",
        "    tf.keras.layers.LSTM(64),\n",
        "    tf.keras.layers.Dense(1, activation='sigmoid')\n",
        "])\n",
        "model.compile(loss='binary_crossentropy',optimizer='adam',metrics=['acc'])\n",
        "model.summary()\n",
        "\n",
        "training_labels = np.array(training_labels)\n",
        "test_labels = np.array(test_labels)\n",
        "\n",
        "num_epochs = 50\n",
        "history = model.fit(training_sequences, training_labels, epochs=num_epochs, validation_data=(test_sequences, test_labels), verbose=1)\n",
        "\n",
        "print(\"Training Complete\")\n"
      ],
      "execution_count": 24,
      "outputs": [
        {
          "output_type": "stream",
          "name": "stdout",
          "text": "Model: \"sequential_5\"\n_________________________________________________________________\nLayer (type)                 Output Shape              Param #   \n=================================================================\nembedding_5 (Embedding)      (None, 16, 100)           13847600  \n_________________________________________________________________\ndropout_5 (Dropout)          (None, 16, 100)           0         \n_________________________________________________________________\nconv1d_5 (Conv1D)            (None, 12, 64)            32064     \n_________________________________________________________________\nmax_pooling1d_5 (MaxPooling1 (None, 3, 64)             0         \n_________________________________________________________________\nlstm_5 (LSTM)                (None, 64)                33024     \n_________________________________________________________________\ndense_5 (Dense)              (None, 1)                 65        \n=================================================================\nTotal params: 13,912,753\nTrainable params: 65,153\nNon-trainable params: 13,847,600\n_________________________________________________________________\nTrain on 144000 samples, validate on 16000 samples\nEpoch 1/50\n144000/144000 [==============================] - 119s 825us/sample - loss: 0.5662 - acc: 0.7005 - val_loss: 0.5285 - val_acc: 0.7331\nEpoch 2/50\n144000/144000 [==============================] - 115s 800us/sample - loss: 0.5243 - acc: 0.7329 - val_loss: 0.5327 - val_acc: 0.7268\nEpoch 3/50\n144000/144000 [==============================] - 117s 813us/sample - loss: 0.5069 - acc: 0.7461 - val_loss: 0.5211 - val_acc: 0.7404\nEpoch 4/50\n144000/144000 [==============================] - 119s 829us/sample - loss: 0.4967 - acc: 0.7538 - val_loss: 0.5087 - val_acc: 0.7476\nEpoch 5/50\n144000/144000 [==============================] - 117s 812us/sample - loss: 0.4876 - acc: 0.7595 - val_loss: 0.5041 - val_acc: 0.7525\nEpoch 6/50\n144000/144000 [==============================] - 115s 795us/sample - loss: 0.4816 - acc: 0.7641 - val_loss: 0.5066 - val_acc: 0.7484\nEpoch 7/50\n144000/144000 [==============================] - 115s 799us/sample - loss: 0.4749 - acc: 0.7662 - val_loss: 0.5067 - val_acc: 0.7516\nEpoch 8/50\n144000/144000 [==============================] - 115s 795us/sample - loss: 0.4694 - acc: 0.7716 - val_loss: 0.5034 - val_acc: 0.7510\nEpoch 9/50\n144000/144000 [==============================] - 114s 795us/sample - loss: 0.4657 - acc: 0.7732 - val_loss: 0.5031 - val_acc: 0.7522\nEpoch 10/50\n144000/144000 [==============================] - 122s 847us/sample - loss: 0.4602 - acc: 0.7773 - val_loss: 0.5116 - val_acc: 0.7488\nEpoch 11/50\n144000/144000 [==============================] - 120s 831us/sample - loss: 0.4572 - acc: 0.7792 - val_loss: 0.5075 - val_acc: 0.7542\nEpoch 12/50\n144000/144000 [==============================] - 119s 824us/sample - loss: 0.4533 - acc: 0.7814 - val_loss: 0.5081 - val_acc: 0.7524\nEpoch 13/50\n144000/144000 [==============================] - 116s 807us/sample - loss: 0.4517 - acc: 0.7822 - val_loss: 0.5098 - val_acc: 0.7524\nEpoch 14/50\n144000/144000 [==============================] - 115s 796us/sample - loss: 0.4477 - acc: 0.7841 - val_loss: 0.5123 - val_acc: 0.7556\nEpoch 15/50\n144000/144000 [==============================] - 117s 811us/sample - loss: 0.4469 - acc: 0.7843 - val_loss: 0.5138 - val_acc: 0.7536\nEpoch 16/50\n144000/144000 [==============================] - 121s 838us/sample - loss: 0.4444 - acc: 0.7877 - val_loss: 0.5100 - val_acc: 0.7538\nEpoch 17/50\n144000/144000 [==============================] - 119s 826us/sample - loss: 0.4435 - acc: 0.7868 - val_loss: 0.5147 - val_acc: 0.7501\nEpoch 18/50\n144000/144000 [==============================] - 118s 816us/sample - loss: 0.4410 - acc: 0.7881 - val_loss: 0.5103 - val_acc: 0.7501\nEpoch 19/50\n144000/144000 [==============================] - 121s 840us/sample - loss: 0.4386 - acc: 0.7891 - val_loss: 0.5241 - val_acc: 0.7464\nEpoch 20/50\n144000/144000 [==============================] - 120s 836us/sample - loss: 0.4382 - acc: 0.7897 - val_loss: 0.5205 - val_acc: 0.7492\nEpoch 21/50\n144000/144000 [==============================] - 118s 820us/sample - loss: 0.4373 - acc: 0.7898 - val_loss: 0.5187 - val_acc: 0.7479\nEpoch 22/50\n144000/144000 [==============================] - 118s 818us/sample - loss: 0.4358 - acc: 0.7919 - val_loss: 0.5148 - val_acc: 0.7520\nEpoch 23/50\n144000/144000 [==============================] - 117s 814us/sample - loss: 0.4349 - acc: 0.7913 - val_loss: 0.5171 - val_acc: 0.7474\nEpoch 24/50\n144000/144000 [==============================] - 121s 838us/sample - loss: 0.4342 - acc: 0.7918 - val_loss: 0.5245 - val_acc: 0.7485\nEpoch 25/50\n144000/144000 [==============================] - 120s 837us/sample - loss: 0.4317 - acc: 0.7928 - val_loss: 0.5206 - val_acc: 0.7505\nEpoch 26/50\n144000/144000 [==============================] - 116s 809us/sample - loss: 0.4320 - acc: 0.7926 - val_loss: 0.5238 - val_acc: 0.7486\nEpoch 27/50\n144000/144000 [==============================] - 114s 794us/sample - loss: 0.4331 - acc: 0.7927 - val_loss: 0.5213 - val_acc: 0.7510\nEpoch 28/50\n144000/144000 [==============================] - 115s 800us/sample - loss: 0.4314 - acc: 0.7930 - val_loss: 0.5212 - val_acc: 0.7494\nEpoch 29/50\n144000/144000 [==============================] - 114s 791us/sample - loss: 0.4303 - acc: 0.7950 - val_loss: 0.5298 - val_acc: 0.7487\nEpoch 30/50\n144000/144000 [==============================] - 115s 795us/sample - loss: 0.4296 - acc: 0.7945 - val_loss: 0.5207 - val_acc: 0.7486\nEpoch 31/50\n144000/144000 [==============================] - 114s 791us/sample - loss: 0.4287 - acc: 0.7949 - val_loss: 0.5223 - val_acc: 0.7508\nEpoch 32/50\n144000/144000 [==============================] - 119s 823us/sample - loss: 0.4267 - acc: 0.7971 - val_loss: 0.5278 - val_acc: 0.7493\nEpoch 33/50\n144000/144000 [==============================] - 119s 830us/sample - loss: 0.4280 - acc: 0.7964 - val_loss: 0.5243 - val_acc: 0.7463\nEpoch 34/50\n144000/144000 [==============================] - 117s 815us/sample - loss: 0.4285 - acc: 0.7948 - val_loss: 0.5289 - val_acc: 0.7471\nEpoch 35/50\n144000/144000 [==============================] - 117s 814us/sample - loss: 0.4262 - acc: 0.7963 - val_loss: 0.5278 - val_acc: 0.7499\nEpoch 36/50\n144000/144000 [==============================] - 117s 810us/sample - loss: 0.4267 - acc: 0.7970 - val_loss: 0.5323 - val_acc: 0.7469\nEpoch 37/50\n144000/144000 [==============================] - 116s 803us/sample - loss: 0.4259 - acc: 0.7975 - val_loss: 0.5270 - val_acc: 0.7478\nEpoch 38/50\n144000/144000 [==============================] - 116s 804us/sample - loss: 0.4251 - acc: 0.7984 - val_loss: 0.5290 - val_acc: 0.7455\nEpoch 39/50\n144000/144000 [==============================] - 116s 805us/sample - loss: 0.4236 - acc: 0.7989 - val_loss: 0.5308 - val_acc: 0.7453\nEpoch 40/50\n144000/144000 [==============================] - 114s 794us/sample - loss: 0.4248 - acc: 0.7986 - val_loss: 0.5267 - val_acc: 0.7462\nEpoch 41/50\n144000/144000 [==============================] - 119s 828us/sample - loss: 0.4244 - acc: 0.7989 - val_loss: 0.5245 - val_acc: 0.7451\nEpoch 42/50\n144000/144000 [==============================] - 118s 822us/sample - loss: 0.4235 - acc: 0.7993 - val_loss: 0.5248 - val_acc: 0.7469\nEpoch 43/50\n144000/144000 [==============================] - 117s 810us/sample - loss: 0.4229 - acc: 0.7990 - val_loss: 0.5296 - val_acc: 0.7469\nEpoch 44/50\n144000/144000 [==============================] - 116s 809us/sample - loss: 0.4220 - acc: 0.7990 - val_loss: 0.5374 - val_acc: 0.7459\nEpoch 45/50\n144000/144000 [==============================] - 114s 794us/sample - loss: 0.4225 - acc: 0.7990 - val_loss: 0.5266 - val_acc: 0.7446\nEpoch 46/50\n144000/144000 [==============================] - 115s 798us/sample - loss: 0.4226 - acc: 0.7998 - val_loss: 0.5247 - val_acc: 0.7506\nEpoch 47/50\n144000/144000 [==============================] - 115s 796us/sample - loss: 0.4227 - acc: 0.7998 - val_loss: 0.5280 - val_acc: 0.7493\nEpoch 48/50\n144000/144000 [==============================] - 114s 790us/sample - loss: 0.4213 - acc: 0.8001 - val_loss: 0.5252 - val_acc: 0.7498\nEpoch 49/50\n144000/144000 [==============================] - 120s 836us/sample - loss: 0.4214 - acc: 0.8007 - val_loss: 0.5269 - val_acc: 0.7491\nEpoch 50/50\n144000/144000 [==============================] - 120s 834us/sample - loss: 0.4211 - acc: 0.8005 - val_loss: 0.5323 - val_acc: 0.7479\nTraining Complete\n"
        }
      ]
    },
    {
      "cell_type": "code",
      "metadata": {
        "colab_type": "code",
        "id": "qxju4ItJKO8F",
        "colab": {}
      },
      "source": [
        "import matplotlib.image  as mpimg\n",
        "import matplotlib.pyplot as plt\n",
        "\n",
        "#-----------------------------------------------------------\n",
        "# Retrieve a list of list results on training and test data\n",
        "# sets for each training epoch\n",
        "#-----------------------------------------------------------\n",
        "acc=history.history['accuracy']\n",
        "val_acc=history.history['val_accuracy']\n",
        "loss=history.history['loss']\n",
        "val_loss=history.history['val_loss']\n",
        "\n",
        "epochs=range(len(acc)) # Get number of epochs\n",
        "\n",
        "#------------------------------------------------\n",
        "# Plot training and validation accuracy per epoch\n",
        "#------------------------------------------------\n",
        "plt.plot(epochs, acc, 'r')\n",
        "plt.plot(epochs, val_acc, 'b')\n",
        "plt.title('Training and validation accuracy')\n",
        "plt.xlabel(\"Epochs\")\n",
        "plt.ylabel(\"Accuracy\")\n",
        "plt.legend([\"Accuracy\", \"Validation Accuracy\"])\n",
        "\n",
        "plt.figure()\n",
        "\n",
        "#------------------------------------------------\n",
        "# Plot training and validation loss per epoch\n",
        "#------------------------------------------------\n",
        "plt.plot(epochs, loss, 'r')\n",
        "plt.plot(epochs, val_loss, 'b')\n",
        "plt.title('Training and validation loss')\n",
        "plt.xlabel(\"Epochs\")\n",
        "plt.ylabel(\"Loss\")\n",
        "plt.legend([\"Loss\", \"Validation Loss\"])\n",
        "\n",
        "plt.figure()\n",
        "\n",
        "\n",
        "# Expected Output\n",
        "# A chart where the validation loss does not increase sharply!"
      ],
      "execution_count": 25,
      "outputs": [
        {
          "output_type": "error",
          "ename": "KeyError",
          "evalue": "'accuracy'",
          "traceback": [
            "\u001b[0;31m---------------------------------------------------------------------------\u001b[0m",
            "\u001b[0;31mKeyError\u001b[0m                                  Traceback (most recent call last)",
            "\u001b[0;32m<ipython-input-25-db7554fc2d0e>\u001b[0m in \u001b[0;36m<module>\u001b[0;34m\u001b[0m\n\u001b[1;32m      6\u001b[0m \u001b[0;31m# sets for each training epoch\u001b[0m\u001b[0;34m\u001b[0m\u001b[0;34m\u001b[0m\u001b[0;34m\u001b[0m\u001b[0m\n\u001b[1;32m      7\u001b[0m \u001b[0;31m#-----------------------------------------------------------\u001b[0m\u001b[0;34m\u001b[0m\u001b[0;34m\u001b[0m\u001b[0;34m\u001b[0m\u001b[0m\n\u001b[0;32m----> 8\u001b[0;31m \u001b[0macc\u001b[0m\u001b[0;34m=\u001b[0m\u001b[0mhistory\u001b[0m\u001b[0;34m.\u001b[0m\u001b[0mhistory\u001b[0m\u001b[0;34m[\u001b[0m\u001b[0;34m'accuracy'\u001b[0m\u001b[0;34m]\u001b[0m\u001b[0;34m\u001b[0m\u001b[0;34m\u001b[0m\u001b[0m\n\u001b[0m\u001b[1;32m      9\u001b[0m \u001b[0mval_acc\u001b[0m\u001b[0;34m=\u001b[0m\u001b[0mhistory\u001b[0m\u001b[0;34m.\u001b[0m\u001b[0mhistory\u001b[0m\u001b[0;34m[\u001b[0m\u001b[0;34m'val_accuracy'\u001b[0m\u001b[0;34m]\u001b[0m\u001b[0;34m\u001b[0m\u001b[0;34m\u001b[0m\u001b[0m\n\u001b[1;32m     10\u001b[0m \u001b[0mloss\u001b[0m\u001b[0;34m=\u001b[0m\u001b[0mhistory\u001b[0m\u001b[0;34m.\u001b[0m\u001b[0mhistory\u001b[0m\u001b[0;34m[\u001b[0m\u001b[0;34m'loss'\u001b[0m\u001b[0;34m]\u001b[0m\u001b[0;34m\u001b[0m\u001b[0;34m\u001b[0m\u001b[0m\n",
            "\u001b[0;31mKeyError\u001b[0m: 'accuracy'"
          ]
        }
      ]
    }
  ],
  "metadata": {
    "accelerator": "GPU",
    "colab": {
      "name": "NLP Course - Week 3 Exercise Answer.ipynb",
      "provenance": [],
      "toc_visible": true
    },
    "kernelspec": {
      "display_name": "Python 3",
      "name": "python3"
    }
  },
  "nbformat": 4,
  "nbformat_minor": 0
}