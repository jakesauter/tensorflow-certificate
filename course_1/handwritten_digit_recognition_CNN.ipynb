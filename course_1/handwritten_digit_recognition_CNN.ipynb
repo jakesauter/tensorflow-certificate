{
 "cells": [
  {
   "cell_type": "markdown",
   "metadata": {
    "colab_type": "text",
    "id": "iQjHqsmTAVLU"
   },
   "source": [
    "## Exercise 3\n",
    "In the videos you looked at how you would improve Fashion MNIST using Convolutions. For your exercise see if you can improve MNIST to 99.8% accuracy or more using only a single convolutional layer and a single MaxPooling 2D. You should stop training once the accuracy goes above this amount. It should happen in less than 20 epochs, so it's ok to hard code the number of epochs for training, but your training must end once it hits the above metric. If it doesn't, then you'll need to redesign your layers.\n",
    "\n",
    "I've started the code for you -- you need to finish it!\n",
    "\n",
    "When 99.8% accuracy has been hit, you should print out the string \"Reached 99.8% accuracy so cancelling training!\"\n"
   ]
  },
  {
   "cell_type": "code",
   "execution_count": 1,
   "metadata": {},
   "outputs": [],
   "source": [
    "import tensorflow as tf\n",
    "from os import path, getcwd, chdir\n",
    "\n",
    "# DO NOT CHANGE THE LINE BELOW. If you are developing in a local\n",
    "# environment, then grab mnist.npz from the Coursera Jupyter Notebook\n",
    "# and place it inside a local folder and edit the path to that location\n",
    "path = '/home/t730/Documents/tensorflow-certificate/data/course_1_mnist.npz'"
   ]
  },
  {
   "cell_type": "code",
   "execution_count": 4,
   "metadata": {},
   "outputs": [],
   "source": [
    "# GRADED FUNCTION: train_mnist_conv\n",
    "def train_mnist_conv():\n",
    "    # Please write your code only where you are indicated.\n",
    "    # please do not remove model fitting inline comments.\n",
    "\n",
    "    class earlyStopping(tf.keras.callbacks.Callback): \n",
    "        def on_epoch_end(self, epoch, logs={}):\n",
    "            if(logs.get('acc') >= 0.998):\n",
    "                print(\"\\nReached 99.8% accuracy so cancelling training!\")\n",
    "                self.model.stop_training = True\n",
    "                \n",
    "    early_stopping = earlyStopping()\n",
    "\n",
    "    mnist = tf.keras.datasets.mnist\n",
    "    (training_images, training_labels), (test_images, test_labels) = mnist.load_data(path=path)\n",
    "\n",
    "    training_images = training_images.reshape(60000, 28, 28, 1)\n",
    "    training_images = training_images / 255.0\n",
    "    test = test_images.reshape(10000, 28, 28, 1)\n",
    "    test_images = test_images / 255.0 \n",
    "\n",
    "    model = tf.keras.models.Sequential([\n",
    "        tf.keras.layers.Conv2D(64, (3,3), activation='relu', input_shape=(28,28,1)), \n",
    "        tf.keras.layers.MaxPooling2D(2,2), \n",
    "        tf.keras.layers.Conv2D(64, (3,3), activation='relu'), \n",
    "        tf.keras.layers.MaxPooling2D(2,2), \n",
    "        tf.keras.layers.Flatten(), \n",
    "        tf.keras.layers.Dense(128, activation = 'relu'), \n",
    "        tf.keras.layers.Dense(10, activation='softmax')\n",
    "    ])\n",
    "\n",
    "    model.compile(optimizer='adam', loss='sparse_categorical_crossentropy', metrics=['acc']) # model fitting\n",
    "    history = model.fit(training_images, training_labels, epochs = 20, callbacks=[early_stopping])\n",
    "    # model fitting\n",
    "    return history.epoch, history.history['acc'][-1]\n",
    "\n"
   ]
  },
  {
   "cell_type": "code",
   "execution_count": 5,
   "metadata": {},
   "outputs": [
    {
     "output_type": "stream",
     "name": "stdout",
     "text": "Train on 60000 samples\nEpoch 1/20\n60000/60000 [==============================] - 15s 258us/sample - loss: 0.1224 - acc: 0.9628\nEpoch 2/20\n60000/60000 [==============================] - 15s 252us/sample - loss: 0.0401 - acc: 0.9879\nEpoch 3/20\n60000/60000 [==============================] - 15s 253us/sample - loss: 0.0282 - acc: 0.9913\nEpoch 4/20\n60000/60000 [==============================] - 15s 254us/sample - loss: 0.0194 - acc: 0.9939\nEpoch 5/20\n60000/60000 [==============================] - 15s 253us/sample - loss: 0.0146 - acc: 0.9953\nEpoch 6/20\n60000/60000 [==============================] - 15s 253us/sample - loss: 0.0111 - acc: 0.9966\nEpoch 7/20\n60000/60000 [==============================] - 15s 253us/sample - loss: 0.0095 - acc: 0.9969\nEpoch 8/20\n60000/60000 [==============================] - 15s 253us/sample - loss: 0.0080 - acc: 0.9974\nEpoch 9/20\n60000/60000 [==============================] - 15s 253us/sample - loss: 0.0072 - acc: 0.9976\nEpoch 10/20\n60000/60000 [==============================] - 15s 255us/sample - loss: 0.0063 - acc: 0.9979\nEpoch 11/20\n59904/60000 [============================>.] - ETA: 0s - loss: 0.0047 - acc: 0.9985\nReached 99.8% accuracy so cancelling training!\n60000/60000 [==============================] - 15s 254us/sample - loss: 0.0047 - acc: 0.9985\n"
    }
   ],
   "source": [
    "_, _ = train_mnist_conv()"
   ]
  },
  {
   "cell_type": "code",
   "execution_count": null,
   "metadata": {},
   "outputs": [],
   "source": []
  }
 ],
 "metadata": {
  "coursera": {
   "course_slug": "introduction-tensorflow",
   "graded_item_id": "ml06H",
   "launcher_item_id": "hQF8A"
  },
  "kernelspec": {
   "display_name": "Python 3",
   "language": "python",
   "name": "python3"
  },
  "language_info": {
   "codemirror_mode": {
    "name": "ipython",
    "version": 3
   },
   "file_extension": ".py",
   "mimetype": "text/x-python",
   "name": "python",
   "nbconvert_exporter": "python",
   "pygments_lexer": "ipython3",
   "version": "3.7.4-final"
  }
 },
 "nbformat": 4,
 "nbformat_minor": 1
}